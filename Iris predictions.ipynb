{
 "cells": [
  {
   "cell_type": "code",
   "execution_count": 2,
   "id": "30fbe8c6",
   "metadata": {},
   "outputs": [],
   "source": [
    "import pandas as pd\n",
    "import numpy as np\n",
    "\n",
    "from sklearn.linear_model import LogisticRegression\n",
    "from sklearn.model_selection import train_test_split\n",
    "from sklearn.metrics import accuracy_score, roc_auc_score, roc_curve, confusion_matrix, classification_report\n",
    "from sklearn.metrics import multilabel_confusion_matrix\n",
    "\n",
    "import seaborn as sns\n",
    "import matplotlib.pyplot as plt\n",
    "\n",
    "import warnings\n",
    "warnings.filterwarnings(\"ignore\")"
   ]
  },
  {
   "cell_type": "code",
   "execution_count": 3,
   "id": "8e00e7b0",
   "metadata": {},
   "outputs": [
    {
     "data": {
      "text/html": [
       "<div>\n",
       "<style scoped>\n",
       "    .dataframe tbody tr th:only-of-type {\n",
       "        vertical-align: middle;\n",
       "    }\n",
       "\n",
       "    .dataframe tbody tr th {\n",
       "        vertical-align: top;\n",
       "    }\n",
       "\n",
       "    .dataframe thead th {\n",
       "        text-align: right;\n",
       "    }\n",
       "</style>\n",
       "<table border=\"1\" class=\"dataframe\">\n",
       "  <thead>\n",
       "    <tr style=\"text-align: right;\">\n",
       "      <th></th>\n",
       "      <th>Id</th>\n",
       "      <th>SepalLengthCm</th>\n",
       "      <th>SepalWidthCm</th>\n",
       "      <th>PetalLengthCm</th>\n",
       "      <th>PetalWidthCm</th>\n",
       "      <th>Species</th>\n",
       "    </tr>\n",
       "  </thead>\n",
       "  <tbody>\n",
       "    <tr>\n",
       "      <th>0</th>\n",
       "      <td>1</td>\n",
       "      <td>5.1</td>\n",
       "      <td>3.5</td>\n",
       "      <td>1.4</td>\n",
       "      <td>0.2</td>\n",
       "      <td>Iris-setosa</td>\n",
       "    </tr>\n",
       "    <tr>\n",
       "      <th>1</th>\n",
       "      <td>2</td>\n",
       "      <td>4.9</td>\n",
       "      <td>3.0</td>\n",
       "      <td>1.4</td>\n",
       "      <td>0.2</td>\n",
       "      <td>Iris-setosa</td>\n",
       "    </tr>\n",
       "    <tr>\n",
       "      <th>2</th>\n",
       "      <td>3</td>\n",
       "      <td>4.7</td>\n",
       "      <td>3.2</td>\n",
       "      <td>1.3</td>\n",
       "      <td>0.2</td>\n",
       "      <td>Iris-setosa</td>\n",
       "    </tr>\n",
       "    <tr>\n",
       "      <th>3</th>\n",
       "      <td>4</td>\n",
       "      <td>4.6</td>\n",
       "      <td>3.1</td>\n",
       "      <td>1.5</td>\n",
       "      <td>0.2</td>\n",
       "      <td>Iris-setosa</td>\n",
       "    </tr>\n",
       "    <tr>\n",
       "      <th>4</th>\n",
       "      <td>5</td>\n",
       "      <td>5.0</td>\n",
       "      <td>3.6</td>\n",
       "      <td>1.4</td>\n",
       "      <td>0.2</td>\n",
       "      <td>Iris-setosa</td>\n",
       "    </tr>\n",
       "  </tbody>\n",
       "</table>\n",
       "</div>"
      ],
      "text/plain": [
       "   Id  SepalLengthCm  SepalWidthCm  PetalLengthCm  PetalWidthCm      Species\n",
       "0   1            5.1           3.5            1.4           0.2  Iris-setosa\n",
       "1   2            4.9           3.0            1.4           0.2  Iris-setosa\n",
       "2   3            4.7           3.2            1.3           0.2  Iris-setosa\n",
       "3   4            4.6           3.1            1.5           0.2  Iris-setosa\n",
       "4   5            5.0           3.6            1.4           0.2  Iris-setosa"
      ]
     },
     "execution_count": 3,
     "metadata": {},
     "output_type": "execute_result"
    }
   ],
   "source": [
    "df = pd.read_csv(\"Iris.csv\")\n",
    "df.head()"
   ]
  },
  {
   "cell_type": "code",
   "execution_count": 4,
   "id": "60787a74",
   "metadata": {},
   "outputs": [
    {
     "name": "stdout",
     "output_type": "stream",
     "text": [
      "<class 'pandas.core.frame.DataFrame'>\n",
      "RangeIndex: 150 entries, 0 to 149\n",
      "Data columns (total 6 columns):\n",
      " #   Column         Non-Null Count  Dtype  \n",
      "---  ------         --------------  -----  \n",
      " 0   Id             150 non-null    int64  \n",
      " 1   SepalLengthCm  150 non-null    float64\n",
      " 2   SepalWidthCm   150 non-null    float64\n",
      " 3   PetalLengthCm  150 non-null    float64\n",
      " 4   PetalWidthCm   150 non-null    float64\n",
      " 5   Species        150 non-null    object \n",
      "dtypes: float64(4), int64(1), object(1)\n",
      "memory usage: 7.2+ KB\n"
     ]
    }
   ],
   "source": [
    "df.info()"
   ]
  },
  {
   "cell_type": "code",
   "execution_count": 5,
   "id": "9404da03",
   "metadata": {},
   "outputs": [
    {
     "data": {
      "text/plain": [
       "array(['Iris-setosa', 'Iris-versicolor', 'Iris-virginica'], dtype=object)"
      ]
     },
     "execution_count": 5,
     "metadata": {},
     "output_type": "execute_result"
    }
   ],
   "source": [
    "df[\"Species\"].unique()"
   ]
  },
  {
   "cell_type": "code",
   "execution_count": 6,
   "id": "b5e39207",
   "metadata": {},
   "outputs": [],
   "source": [
    "df[\"Species\"] = df[\"Species\"].replace({'Iris-setosa':0, \"Iris-versicolor\": 1, \"Iris-virginica\": 2})"
   ]
  },
  {
   "cell_type": "code",
   "execution_count": 7,
   "id": "03ac4d2c",
   "metadata": {},
   "outputs": [
    {
     "name": "stdout",
     "output_type": "stream",
     "text": [
      "<class 'pandas.core.frame.DataFrame'>\n",
      "RangeIndex: 150 entries, 0 to 149\n",
      "Data columns (total 6 columns):\n",
      " #   Column         Non-Null Count  Dtype  \n",
      "---  ------         --------------  -----  \n",
      " 0   Id             150 non-null    int64  \n",
      " 1   SepalLengthCm  150 non-null    float64\n",
      " 2   SepalWidthCm   150 non-null    float64\n",
      " 3   PetalLengthCm  150 non-null    float64\n",
      " 4   PetalWidthCm   150 non-null    float64\n",
      " 5   Species        150 non-null    int64  \n",
      "dtypes: float64(4), int64(2)\n",
      "memory usage: 7.2 KB\n"
     ]
    }
   ],
   "source": [
    "df.info()"
   ]
  },
  {
   "cell_type": "markdown",
   "id": "4ce0babd",
   "metadata": {},
   "source": [
    "#### Check for linearity"
   ]
  },
  {
   "cell_type": "code",
   "execution_count": 8,
   "id": "1c4cff9d",
   "metadata": {},
   "outputs": [
    {
     "data": {
      "text/html": [
       "<div>\n",
       "<style scoped>\n",
       "    .dataframe tbody tr th:only-of-type {\n",
       "        vertical-align: middle;\n",
       "    }\n",
       "\n",
       "    .dataframe tbody tr th {\n",
       "        vertical-align: top;\n",
       "    }\n",
       "\n",
       "    .dataframe thead th {\n",
       "        text-align: right;\n",
       "    }\n",
       "</style>\n",
       "<table border=\"1\" class=\"dataframe\">\n",
       "  <thead>\n",
       "    <tr style=\"text-align: right;\">\n",
       "      <th></th>\n",
       "      <th>Id</th>\n",
       "      <th>SepalLengthCm</th>\n",
       "      <th>SepalWidthCm</th>\n",
       "      <th>PetalLengthCm</th>\n",
       "      <th>PetalWidthCm</th>\n",
       "      <th>Species</th>\n",
       "    </tr>\n",
       "  </thead>\n",
       "  <tbody>\n",
       "    <tr>\n",
       "      <th>Species</th>\n",
       "      <td>0.94283</td>\n",
       "      <td>0.782561</td>\n",
       "      <td>-0.419446</td>\n",
       "      <td>0.949043</td>\n",
       "      <td>0.956464</td>\n",
       "      <td>1.0</td>\n",
       "    </tr>\n",
       "  </tbody>\n",
       "</table>\n",
       "</div>"
      ],
      "text/plain": [
       "              Id  SepalLengthCm  SepalWidthCm  PetalLengthCm  PetalWidthCm  \\\n",
       "Species  0.94283       0.782561     -0.419446       0.949043      0.956464   \n",
       "\n",
       "         Species  \n",
       "Species      1.0  "
      ]
     },
     "execution_count": 8,
     "metadata": {},
     "output_type": "execute_result"
    }
   ],
   "source": [
    "df.corr().tail(1)"
   ]
  },
  {
   "cell_type": "code",
   "execution_count": 9,
   "id": "56bebabc",
   "metadata": {},
   "outputs": [
    {
     "data": {
      "text/plain": [
       "<AxesSubplot:>"
      ]
     },
     "execution_count": 9,
     "metadata": {},
     "output_type": "execute_result"
    },
    {
     "data": {
      "image/png": "[encoded data removed]",
      "text/plain": [
       "<Figure size 1080x72 with 2 Axes>"
      ]
     },
     "metadata": {
      "needs_background": "light"
     },
     "output_type": "display_data"
    }
   ],
   "source": [
    "plt.figure(figsize=(15,1))\n",
    "sns.heatmap(df.corr().tail(1), annot=True)"
   ]
  },
  {
   "cell_type": "code",
   "execution_count": 10,
   "id": "e5cfdcd1",
   "metadata": {},
   "outputs": [
    {
     "data": {
      "text/plain": [
       "<seaborn.axisgrid.PairGrid at 0x1b4c214ff70>"
      ]
     },
     "execution_count": 10,
     "metadata": {},
     "output_type": "execute_result"
    },
    {
     "data": {
      "image/png": "[encoded data removed]",
      "text/plain": [
       "<Figure size 720x180 with 4 Axes>"
      ]
     },
     "metadata": {
      "needs_background": "light"
     },
     "output_type": "display_data"
    }
   ],
   "source": [
    "sns.pairplot(data=df, x_vars=[\"SepalLengthCm\", \"SepalWidthCm\", \"PetalLengthCm\", \"PetalWidthCm\"], y_vars=[\"Species\"])"
   ]
  },
  {
   "cell_type": "markdown",
   "id": "f55eaa05",
   "metadata": {},
   "source": [
    "#### Check for multicolinearity"
   ]
  },
  {
   "cell_type": "code",
   "execution_count": 11,
   "id": "f18a34de",
   "metadata": {},
   "outputs": [
    {
     "data": {
      "text/plain": [
       "(150, 6)"
      ]
     },
     "execution_count": 11,
     "metadata": {},
     "output_type": "execute_result"
    }
   ],
   "source": [
    "df.shape"
   ]
  },
  {
   "cell_type": "code",
   "execution_count": 12,
   "id": "d4297c9a",
   "metadata": {},
   "outputs": [],
   "source": [
    "df_vif = df.drop([\"Id\", \"Species\"], axis=1)\n"
   ]
  },
  {
   "cell_type": "code",
   "execution_count": 13,
   "id": "48c8740b",
   "metadata": {},
   "outputs": [
    {
     "name": "stdout",
     "output_type": "stream",
     "text": [
      "[[...], [...], [...], [...]]\n"
     ]
    }
   ],
   "source": [
    "from statsmodels.stats.outliers_influence import variance_inflation_factor\n",
    "vif = []\n",
    "for i in range(df_vif.shape[1]):\n",
    "    vi = variance_inflation_factor(df_vif.to_numpy(), i)\n",
    "    vif.append(vif)\n",
    "print(vif)"
   ]
  },
  {
   "cell_type": "code",
   "execution_count": 14,
   "id": "4d04ea78",
   "metadata": {},
   "outputs": [
    {
     "data": {
      "text/plain": [
       "<AxesSubplot:>"
      ]
     },
     "execution_count": 14,
     "metadata": {},
     "output_type": "execute_result"
    },
    {
     "data": {
      "image/png": "[encoded data removed]",
      "text/plain": [
       "<Figure size 432x288 with 2 Axes>"
      ]
     },
     "metadata": {
      "needs_background": "light"
     },
     "output_type": "display_data"
    }
   ],
   "source": [
    "sns.heatmap(df.corr(), annot=True)"
   ]
  },
  {
   "cell_type": "code",
   "execution_count": 15,
   "id": "7aabe106",
   "metadata": {},
   "outputs": [],
   "source": [
    "# residuals_1 = y_test - y_test_pred\n",
    "# sns.kdeplot(residuals_1,fill=True)"
   ]
  },
  {
   "cell_type": "code",
   "execution_count": null,
   "id": "efa024b5",
   "metadata": {},
   "outputs": [],
   "source": []
  },
  {
   "cell_type": "code",
   "execution_count": 16,
   "id": "c8e03fa2",
   "metadata": {},
   "outputs": [],
   "source": [
    "# residuals_1 = y_train - y_train_pred\n",
    "# sns.kdeplot(residuals_1,fill=True)"
   ]
  },
  {
   "cell_type": "code",
   "execution_count": null,
   "id": "d3a5a378",
   "metadata": {},
   "outputs": [],
   "source": []
  },
  {
   "cell_type": "code",
   "execution_count": null,
   "id": "f5802d96",
   "metadata": {},
   "outputs": [],
   "source": []
  },
  {
   "cell_type": "markdown",
   "id": "f22f40c8",
   "metadata": {},
   "source": [
    "## Model Training"
   ]
  },
  {
   "cell_type": "code",
   "execution_count": 17,
   "id": "2427c45c",
   "metadata": {},
   "outputs": [],
   "source": [
    "x = df.drop([\"Id\", \"Species\"], axis=1)\n",
    "y = df[\"Species\"]"
   ]
  },
  {
   "cell_type": "code",
   "execution_count": 18,
   "id": "81edd65c",
   "metadata": {},
   "outputs": [],
   "source": [
    "x_train, x_test, y_train, y_test = train_test_split(x, y, test_size=0.2, random_state=1, stratify=y)"
   ]
  },
  {
   "cell_type": "code",
   "execution_count": 19,
   "id": "755f795b",
   "metadata": {},
   "outputs": [
    {
     "data": {
      "text/plain": [
       "LogisticRegression(multi_class='ovr')"
      ]
     },
     "execution_count": 19,
     "metadata": {},
     "output_type": "execute_result"
    }
   ],
   "source": [
    "classifier = LogisticRegression(multi_class=\"ovr\")\n",
    "classifier.fit(x_train, y_train)"
   ]
  },
  {
   "cell_type": "markdown",
   "id": "7e1ab085",
   "metadata": {},
   "source": [
    "### test and train predictions"
   ]
  },
  {
   "cell_type": "code",
   "execution_count": 20,
   "id": "c073a898",
   "metadata": {},
   "outputs": [],
   "source": [
    "y_test_pred = classifier.predict(x_test)\n",
    "\n",
    "y_train_pred = classifier.predict(x_train)"
   ]
  },
  {
   "cell_type": "code",
   "execution_count": 21,
   "id": "f59645c6",
   "metadata": {},
   "outputs": [
    {
     "data": {
      "text/plain": [
       "107    2\n",
       "9      0\n",
       "98     1\n",
       "11     0\n",
       "43     0\n",
       "0      0\n",
       "148    2\n",
       "111    2\n",
       "121    2\n",
       "76     1\n",
       "Name: Species, dtype: int64"
      ]
     },
     "execution_count": 21,
     "metadata": {},
     "output_type": "execute_result"
    }
   ],
   "source": [
    "y_test[:10]"
   ]
  },
  {
   "cell_type": "code",
   "execution_count": 22,
   "id": "e573cc1e",
   "metadata": {},
   "outputs": [
    {
     "data": {
      "text/plain": [
       "array([2, 0, 1, 0, 0, 0, 2, 2, 2, 1], dtype=int64)"
      ]
     },
     "execution_count": 22,
     "metadata": {},
     "output_type": "execute_result"
    }
   ],
   "source": [
    "y_test_pred[:10]"
   ]
  },
  {
   "cell_type": "code",
   "execution_count": 23,
   "id": "ec8a64a3",
   "metadata": {},
   "outputs": [
    {
     "name": "stdout",
     "output_type": "stream",
     "text": [
      "Accuracy for Test set :- 0.9333333333333333\n"
     ]
    }
   ],
   "source": [
    "test_accuracy = accuracy_score(y_test, y_test_pred)\n",
    "print(f\"Accuracy for Test set :- {test_accuracy}\")"
   ]
  },
  {
   "cell_type": "code",
   "execution_count": 24,
   "id": "fe206ae2",
   "metadata": {},
   "outputs": [
    {
     "name": "stdout",
     "output_type": "stream",
     "text": [
      "Accuracy for Train| set :- 0.9583333333333334\n"
     ]
    }
   ],
   "source": [
    "train_accuracy = accuracy_score(y_train, y_train_pred)\n",
    "print(f\"Accuracy for Train| set :- {train_accuracy}\")"
   ]
  },
  {
   "cell_type": "markdown",
   "id": "b22375ec",
   "metadata": {},
   "source": [
    "#### Classification report"
   ]
  },
  {
   "cell_type": "code",
   "execution_count": 25,
   "id": "a722fd36",
   "metadata": {},
   "outputs": [
    {
     "name": "stdout",
     "output_type": "stream",
     "text": [
      "Classification Report (Test set):-               precision    recall  f1-score   support\n",
      "\n",
      "           0       1.00      1.00      1.00        10\n",
      "           1       0.90      0.90      0.90        10\n",
      "           2       0.90      0.90      0.90        10\n",
      "\n",
      "    accuracy                           0.93        30\n",
      "   macro avg       0.93      0.93      0.93        30\n",
      "weighted avg       0.93      0.93      0.93        30\n",
      "\n"
     ]
    }
   ],
   "source": [
    "clf_rep = classification_report(y_test, y_test_pred)\n",
    "print(f\"Classification Report (Test set):- {clf_rep}\")"
   ]
  },
  {
   "cell_type": "code",
   "execution_count": 26,
   "id": "48eda77e",
   "metadata": {},
   "outputs": [
    {
     "name": "stdout",
     "output_type": "stream",
     "text": [
      "Classification Report (Training set):-               precision    recall  f1-score   support\n",
      "\n",
      "           0       1.00      1.00      1.00        40\n",
      "           1       0.97      0.90      0.94        40\n",
      "           2       0.91      0.97      0.94        40\n",
      "\n",
      "    accuracy                           0.96       120\n",
      "   macro avg       0.96      0.96      0.96       120\n",
      "weighted avg       0.96      0.96      0.96       120\n",
      "\n"
     ]
    }
   ],
   "source": [
    "clf_rep = classification_report(y_train, y_train_pred)\n",
    "print(f\"Classification Report (Training set):- {clf_rep}\")"
   ]
  },
  {
   "cell_type": "markdown",
   "id": "bf5fcaaf",
   "metadata": {},
   "source": [
    "### Confusion matrix"
   ]
  },
  {
   "cell_type": "code",
   "execution_count": 27,
   "id": "2a3db055",
   "metadata": {},
   "outputs": [
    {
     "data": {
      "text/plain": [
       "array([[[80,  0],\n",
       "        [ 0, 40]],\n",
       "\n",
       "       [[79,  1],\n",
       "        [ 4, 36]],\n",
       "\n",
       "       [[76,  4],\n",
       "        [ 1, 39]]], dtype=int64)"
      ]
     },
     "execution_count": 27,
     "metadata": {},
     "output_type": "execute_result"
    }
   ],
   "source": [
    "multilabel_confusion_matrix(y_train,y_train_pred)"
   ]
  },
  {
   "cell_type": "code",
   "execution_count": null,
   "id": "e411b7dd",
   "metadata": {},
   "outputs": [],
   "source": []
  },
  {
   "cell_type": "code",
   "execution_count": 28,
   "id": "6306fdbf",
   "metadata": {
    "scrolled": true
   },
   "outputs": [
    {
     "data": {
      "text/plain": [
       "array([[40,  0,  0],\n",
       "       [ 0, 36,  4],\n",
       "       [ 0,  1, 39]], dtype=int64)"
      ]
     },
     "execution_count": 28,
     "metadata": {},
     "output_type": "execute_result"
    }
   ],
   "source": [
    "confusion_matrix(y_train,y_train_pred)"
   ]
  },
  {
   "cell_type": "code",
   "execution_count": null,
   "id": "fc9aefe6",
   "metadata": {},
   "outputs": [],
   "source": []
  },
  {
   "cell_type": "markdown",
   "id": "113545fb",
   "metadata": {},
   "source": [
    "### AUC ROC Curve"
   ]
  },
  {
   "cell_type": "code",
   "execution_count": 29,
   "id": "a45c5d80",
   "metadata": {},
   "outputs": [],
   "source": [
    "y_test_prob = classifier.predict_proba(x_test)\n",
    "y_train_prob = classifier.predict_proba(x_train)"
   ]
  },
  {
   "cell_type": "code",
   "execution_count": 30,
   "id": "3282a990",
   "metadata": {},
   "outputs": [],
   "source": [
    "# y_test_prob"
   ]
  },
  {
   "cell_type": "raw",
   "id": "76b00e52",
   "metadata": {},
   "source": [
    "          Class 0         Class1           Class2\n",
    "       [3.61965026e-05, 3.41589378e-01, 6.58374426e-01] >> 2\n",
    "       [7.87974999e-01, 2.12022695e-01, 2.30633454e-06] >> 0\n",
    "       [3.26510816e-01, 6.71338722e-01, 2.15046192e-03] >> 1\n",
    "       [8.50466721e-01, 1.49529750e-01, 3.52954463e-06] >> 0\n",
    "       [9.13091357e-01, 8.69001472e-02, 8.49539420e-06] >> 1"
   ]
  },
  {
   "cell_type": "code",
   "execution_count": 31,
   "id": "f02a27f0",
   "metadata": {},
   "outputs": [],
   "source": [
    "# fpr,tpr,threshold = roc_curve(y_test,y_test_prob)"
   ]
  },
  {
   "cell_type": "code",
   "execution_count": 32,
   "id": "ce32acbd",
   "metadata": {},
   "outputs": [
    {
     "data": {
      "text/plain": [
       "array([[3.61965026e-05, 3.41589378e-01, 6.58374426e-01],\n",
       "       [7.87974999e-01, 2.12022695e-01, 2.30633454e-06],\n",
       "       [3.26510816e-01, 6.71338722e-01, 2.15046192e-03],\n",
       "       [8.50466721e-01, 1.49529750e-01, 3.52954463e-06],\n",
       "       [9.13091357e-01, 8.69001472e-02, 8.49539420e-06]])"
      ]
     },
     "execution_count": 32,
     "metadata": {},
     "output_type": "execute_result"
    }
   ],
   "source": [
    "y_test_prob[:5]"
   ]
  },
  {
   "cell_type": "code",
   "execution_count": 33,
   "id": "ef74c50f",
   "metadata": {},
   "outputs": [
    {
     "data": {
      "text/plain": [
       "array([3.61965026e-05, 7.87974999e-01, 3.26510816e-01, 8.50466721e-01,\n",
       "       9.13091357e-01, 8.97258003e-01, 5.94589898e-04, 4.64713312e-04,\n",
       "       2.03589538e-03, 3.41040014e-03, 9.63676918e-01, 2.81405526e-02,\n",
       "       2.76924380e-04, 2.53203623e-02, 1.02033811e-03, 9.84935673e-01,\n",
       "       9.16214104e-05, 5.00623019e-02, 1.95097259e-01, 2.69511256e-03,\n",
       "       2.38385820e-02, 1.64866715e-02, 7.87974999e-01, 7.34341438e-01,\n",
       "       7.54212013e-04, 8.51524124e-03, 9.50779107e-01, 7.68970987e-01,\n",
       "       9.66658646e-03, 6.51775105e-03])"
      ]
     },
     "execution_count": 33,
     "metadata": {},
     "output_type": "execute_result"
    }
   ],
   "source": [
    "y_test_prob[0:,0:1].reshape(30)"
   ]
  },
  {
   "cell_type": "code",
   "execution_count": 34,
   "id": "d3eaa42d",
   "metadata": {},
   "outputs": [
    {
     "data": {
      "text/plain": [
       "array([[0.34158938],\n",
       "       [0.21202269],\n",
       "       [0.67133872],\n",
       "       [0.14952975],\n",
       "       [0.08690015],\n",
       "       [0.10273986],\n",
       "       [0.1564239 ],\n",
       "       [0.37411877],\n",
       "       [0.41034461],\n",
       "       [0.58483729],\n",
       "       [0.03632077],\n",
       "       [0.91727718],\n",
       "       [0.24646852],\n",
       "       [0.94298979],\n",
       "       [0.44921434],\n",
       "       [0.01506084],\n",
       "       [0.25683079],\n",
       "       [0.8697466 ],\n",
       "       [0.80116929],\n",
       "       [0.39401915],\n",
       "       [0.80568186],\n",
       "       [0.70241355],\n",
       "       [0.21202269],\n",
       "       [0.26565653],\n",
       "       [0.27645809],\n",
       "       [0.72365605],\n",
       "       [0.04921396],\n",
       "       [0.23102726],\n",
       "       [0.43808605],\n",
       "       [0.63202813]])"
      ]
     },
     "execution_count": 34,
     "metadata": {},
     "output_type": "execute_result"
    }
   ],
   "source": [
    "y_test_prob[0:,1:2]"
   ]
  },
  {
   "cell_type": "code",
   "execution_count": 35,
   "id": "2d92a4a6",
   "metadata": {},
   "outputs": [
    {
     "data": {
      "text/plain": [
       "array([6.58374426e-01, 2.30633454e-06, 2.15046192e-03, 3.52954463e-06,\n",
       "       8.49539420e-06, 2.13294200e-06, 8.42981515e-01, 6.25416515e-01,\n",
       "       5.87619496e-01, 4.11752310e-01, 2.31387402e-06, 5.45822644e-02,\n",
       "       7.53254558e-01, 3.16898459e-02, 5.49765318e-01, 3.49136696e-06,\n",
       "       7.43077593e-01, 8.01911006e-02, 3.73345141e-03, 6.03285739e-01,\n",
       "       1.70479561e-01, 2.81099780e-01, 2.30633454e-06, 2.03611468e-06,\n",
       "       7.22787697e-01, 2.67828708e-01, 6.92902133e-06, 1.75364147e-06,\n",
       "       5.52247366e-01, 3.61454118e-01])"
      ]
     },
     "execution_count": 35,
     "metadata": {},
     "output_type": "execute_result"
    }
   ],
   "source": [
    "# y_test_prob[0:,2:3]\n",
    "y_test_prob[0:,2:3].reshape(30)"
   ]
  },
  {
   "cell_type": "code",
   "execution_count": 36,
   "id": "66149971",
   "metadata": {},
   "outputs": [
    {
     "data": {
      "text/plain": [
       "(30,)"
      ]
     },
     "execution_count": 36,
     "metadata": {},
     "output_type": "execute_result"
    }
   ],
   "source": [
    "y_test.shape"
   ]
  },
  {
   "cell_type": "markdown",
   "id": "0d2753db",
   "metadata": {},
   "source": [
    "### AUC curve"
   ]
  },
  {
   "cell_type": "code",
   "execution_count": 37,
   "id": "6959fa18",
   "metadata": {},
   "outputs": [
    {
     "name": "stdout",
     "output_type": "stream",
     "text": [
      "(30,)\n"
     ]
    }
   ],
   "source": [
    "prob1 = y_test_prob[0:,0]\n",
    "prob2 = y_test_prob[0:,1]\n",
    "prob3 = y_test_prob[0:,2]\n",
    "print(prob1.shape)\n",
    "#        [3.61965026e-05, 3.41589378e-01, 6.58374426e-01] >> 2\n",
    "#        [7.87974999e-01, 2.12022695e-01, 2.30633454e-06] >> 0\n",
    "#        [3.26510816e-01, 6.71338722e-01, 2.15046192e-03] >> 1\n",
    "#        [8.50466721e-01, 1.49529750e-01, 3.52954463e-06] >> 0\n",
    "#        [9.13091357e-01, 8.69001472e-02, 8.49539420e-06] >> 0"
   ]
  },
  {
   "cell_type": "code",
   "execution_count": 38,
   "id": "d43f4c9b",
   "metadata": {},
   "outputs": [],
   "source": [
    "fpr1,tpr1,threshold1 = roc_curve(y_test, prob1, pos_label=0)\n",
    "fpr2,tpr2,threshold2 = roc_curve(y_test, prob2, pos_label=1)\n",
    "fpr3,tpr3,threshold3 = roc_curve(y_test, prob3, pos_label=2)"
   ]
  },
  {
   "cell_type": "code",
   "execution_count": null,
   "id": "75a3fc2b",
   "metadata": {},
   "outputs": [],
   "source": []
  },
  {
   "cell_type": "code",
   "execution_count": null,
   "id": "96d0662b",
   "metadata": {},
   "outputs": [],
   "source": []
  },
  {
   "cell_type": "code",
   "execution_count": 39,
   "id": "c1fd2699",
   "metadata": {},
   "outputs": [
    {
     "name": "stdout",
     "output_type": "stream",
     "text": [
      "[0.  0.1 0.6 0.8 1.  1. ] 6\n",
      "[0.  0.1 0.5 0.5 0.9 0.9 1.  1.  1.  1. ] 10\n",
      "[0.  0.1 0.8 0.8 0.9 0.9 1.  1.  1.  1. ] 10\n"
     ]
    }
   ],
   "source": [
    "print(tpr1, len(tpr1))\n",
    "print(tpr2, len(tpr2))\n",
    "print(tpr3, len(tpr3))"
   ]
  },
  {
   "cell_type": "code",
   "execution_count": 40,
   "id": "d01b160b",
   "metadata": {},
   "outputs": [
    {
     "name": "stdout",
     "output_type": "stream",
     "text": [
      "[0. 0. 0. 0. 0. 1.] 6\n",
      "[0.   0.   0.   0.05 0.05 0.1  0.1  0.55 0.65 1.  ] 10\n",
      "[0.   0.   0.   0.05 0.05 0.2  0.2  0.75 0.85 1.  ] 10\n"
     ]
    }
   ],
   "source": [
    "print(fpr1, len(fpr1))\n",
    "print(fpr2, len(fpr2))\n",
    "print(fpr3, len(fpr3))"
   ]
  },
  {
   "cell_type": "code",
   "execution_count": 41,
   "id": "cd512b36",
   "metadata": {},
   "outputs": [
    {
     "data": {
      "image/png": "[encoded data removed]",
      "text/plain": [
       "<Figure size 432x288 with 1 Axes>"
      ]
     },
     "metadata": {},
     "output_type": "display_data"
    }
   ],
   "source": [
    "plt.figure(facecolor=\"white\")\n",
    "plt.title(\"AUC and ROC Curve\")\n",
    "plt.plot(fpr1,tpr1)\n",
    "plt.plot(fpr2,tpr2)\n",
    "plt.plot(fpr3,tpr3)\n",
    "plt.xlabel(\"False Negitive Rate (1-specificity)\")\n",
    "plt.ylabel(\"True Positive Rate (Sensitivity)\")\n",
    "plt.legend(labels=[\"Iris-setosa\", \"Iris-versicolor\", \"Iris-virginica\"], loc=\"lower right\",markerscale=3, fontsize=15)\n",
    "plt.show()"
   ]
  },
  {
   "cell_type": "code",
   "execution_count": 42,
   "id": "8055f258",
   "metadata": {},
   "outputs": [],
   "source": [
    "# !pip install yellowbrick"
   ]
  },
  {
   "cell_type": "code",
   "execution_count": 43,
   "id": "b0766968",
   "metadata": {},
   "outputs": [
    {
     "data": {
      "image/png": "[encoded data removed]",
      "text/plain": [
       "<Figure size 576x396 with 1 Axes>"
      ]
     },
     "metadata": {},
     "output_type": "display_data"
    },
    {
     "data": {
      "text/plain": [
       "<AxesSubplot:title={'center':'ROC Curves for LogisticRegression'}, xlabel='False Positive Rate', ylabel='True Positive Rate'>"
      ]
     },
     "execution_count": 43,
     "metadata": {},
     "output_type": "execute_result"
    }
   ],
   "source": [
    "from yellowbrick.classifier import ROCAUC\n",
    "# from yellowbrick.datasets import load_game\n",
    "\n",
    "visualizer = ROCAUC(classifier, classes=['Iris-setosa', 'Iris-versicolor', 'Iris-virginica'])\n",
    "\n",
    "visualizer.fit(x_train, y_train)        # Fit the training data to the visualizer\n",
    "visualizer.score(x_test, y_test)        # Evaluate the model on the test data\n",
    "visualizer.show()                       # Finalize and render the figure"
   ]
  },
  {
   "cell_type": "code",
   "execution_count": 44,
   "id": "860651de",
   "metadata": {
    "scrolled": true
   },
   "outputs": [
    {
     "data": {
      "text/plain": [
       "0.9816666666666668"
      ]
     },
     "execution_count": 44,
     "metadata": {},
     "output_type": "execute_result"
    }
   ],
   "source": [
    "roc_auc_score(y_test, y_test_prob, multi_class=\"ovr\")"
   ]
  },
  {
   "cell_type": "code",
   "execution_count": 45,
   "id": "d68778b8",
   "metadata": {},
   "outputs": [
    {
     "data": {
      "text/plain": [
       "0.9926041666666666"
      ]
     },
     "execution_count": 45,
     "metadata": {},
     "output_type": "execute_result"
    }
   ],
   "source": [
    "roc_auc_score(y_train, y_train_prob, multi_class=\"ovr\")"
   ]
  },
  {
   "cell_type": "code",
   "execution_count": 46,
   "id": "b1d5b207",
   "metadata": {},
   "outputs": [
    {
     "data": {
      "text/plain": [
       "'1.0.2'"
      ]
     },
     "execution_count": 46,
     "metadata": {},
     "output_type": "execute_result"
    }
   ],
   "source": [
    "import sklearn\n",
    "sklearn.__version__"
   ]
  },
  {
   "cell_type": "code",
   "execution_count": null,
   "id": "1962d865",
   "metadata": {},
   "outputs": [],
   "source": []
  },
  {
   "cell_type": "code",
   "execution_count": 47,
   "id": "b87abd42",
   "metadata": {},
   "outputs": [
    {
     "data": {
      "text/plain": [
       "array([0, 1, 2], dtype=int64)"
      ]
     },
     "execution_count": 47,
     "metadata": {},
     "output_type": "execute_result"
    }
   ],
   "source": [
    "y_train.shape\n",
    "df.Species.unique()"
   ]
  },
  {
   "cell_type": "code",
   "execution_count": null,
   "id": "00f48290",
   "metadata": {},
   "outputs": [],
   "source": []
  },
  {
   "cell_type": "markdown",
   "id": "19e1f741",
   "metadata": {},
   "source": [
    "###  for train set"
   ]
  },
  {
   "cell_type": "code",
   "execution_count": 48,
   "id": "36e3fc48",
   "metadata": {},
   "outputs": [
    {
     "data": {
      "image/png": "[encoded data removed]",
      "text/plain": [
       "<Figure size 576x396 with 1 Axes>"
      ]
     },
     "metadata": {},
     "output_type": "display_data"
    }
   ],
   "source": [
    "n_class_train = 3\n",
    "fpr2 = dict()\n",
    "tpr2 = dict()\n",
    "threshold2 = dict()\n",
    "\n",
    "# graph = 0\n",
    "\n",
    "for i in range(n_class_train):\n",
    "    fpr2[i], tpr2[i], threshold2[i] = roc_curve(y_train, y_train_prob[:,i], pos_label=i)\n",
    "    graph = plt.plot(fpr2[i], tpr2[i])\n",
    "\n",
    "graph \n",
    "plt.title(\"AUC and ROC Curve for Training set\")\n",
    "plt.xlabel(\"False Negitive Rate (1-specificity)\")\n",
    "plt.ylabel(\"True Positive Rate (Sensitivity)\")\n",
    "plt.legend(labels=[\"Iris-setosa\", \"Iris-versicolor\", \"Iris-virginica\"], loc=\"lower right\",markerscale=3, fontsize=15)\n",
    "plt.show()"
   ]
  },
  {
   "cell_type": "code",
   "execution_count": null,
   "id": "414a5f74",
   "metadata": {},
   "outputs": [],
   "source": []
  },
  {
   "cell_type": "code",
   "execution_count": 49,
   "id": "78723b72",
   "metadata": {},
   "outputs": [
    {
     "data": {
      "text/html": [
       "<div>\n",
       "<style scoped>\n",
       "    .dataframe tbody tr th:only-of-type {\n",
       "        vertical-align: middle;\n",
       "    }\n",
       "\n",
       "    .dataframe tbody tr th {\n",
       "        vertical-align: top;\n",
       "    }\n",
       "\n",
       "    .dataframe thead th {\n",
       "        text-align: right;\n",
       "    }\n",
       "</style>\n",
       "<table border=\"1\" class=\"dataframe\">\n",
       "  <thead>\n",
       "    <tr style=\"text-align: right;\">\n",
       "      <th></th>\n",
       "      <th>SepalLengthCm</th>\n",
       "      <th>SepalWidthCm</th>\n",
       "      <th>PetalLengthCm</th>\n",
       "      <th>PetalWidthCm</th>\n",
       "    </tr>\n",
       "  </thead>\n",
       "  <tbody>\n",
       "    <tr>\n",
       "      <th>107</th>\n",
       "      <td>7.3</td>\n",
       "      <td>2.9</td>\n",
       "      <td>6.3</td>\n",
       "      <td>1.8</td>\n",
       "    </tr>\n",
       "    <tr>\n",
       "      <th>9</th>\n",
       "      <td>4.9</td>\n",
       "      <td>3.1</td>\n",
       "      <td>1.5</td>\n",
       "      <td>0.1</td>\n",
       "    </tr>\n",
       "    <tr>\n",
       "      <th>98</th>\n",
       "      <td>5.1</td>\n",
       "      <td>2.5</td>\n",
       "      <td>3.0</td>\n",
       "      <td>1.1</td>\n",
       "    </tr>\n",
       "    <tr>\n",
       "      <th>11</th>\n",
       "      <td>4.8</td>\n",
       "      <td>3.4</td>\n",
       "      <td>1.6</td>\n",
       "      <td>0.2</td>\n",
       "    </tr>\n",
       "    <tr>\n",
       "      <th>43</th>\n",
       "      <td>5.0</td>\n",
       "      <td>3.5</td>\n",
       "      <td>1.6</td>\n",
       "      <td>0.6</td>\n",
       "    </tr>\n",
       "  </tbody>\n",
       "</table>\n",
       "</div>"
      ],
      "text/plain": [
       "     SepalLengthCm  SepalWidthCm  PetalLengthCm  PetalWidthCm\n",
       "107            7.3           2.9            6.3           1.8\n",
       "9              4.9           3.1            1.5           0.1\n",
       "98             5.1           2.5            3.0           1.1\n",
       "11             4.8           3.4            1.6           0.2\n",
       "43             5.0           3.5            1.6           0.6"
      ]
     },
     "execution_count": 49,
     "metadata": {},
     "output_type": "execute_result"
    }
   ],
   "source": [
    "x_test.head()"
   ]
  },
  {
   "cell_type": "code",
   "execution_count": 50,
   "id": "bf5f4312",
   "metadata": {},
   "outputs": [
    {
     "data": {
      "text/plain": [
       "array([2, 0, 1, 0, 0], dtype=int64)"
      ]
     },
     "execution_count": 50,
     "metadata": {},
     "output_type": "execute_result"
    }
   ],
   "source": [
    "classifier.predict(x_test.head())"
   ]
  },
  {
   "cell_type": "code",
   "execution_count": 56,
   "id": "253775ad",
   "metadata": {},
   "outputs": [
    {
     "data": {
      "text/html": [
       "<div>\n",
       "<style scoped>\n",
       "    .dataframe tbody tr th:only-of-type {\n",
       "        vertical-align: middle;\n",
       "    }\n",
       "\n",
       "    .dataframe tbody tr th {\n",
       "        vertical-align: top;\n",
       "    }\n",
       "\n",
       "    .dataframe thead th {\n",
       "        text-align: right;\n",
       "    }\n",
       "</style>\n",
       "<table border=\"1\" class=\"dataframe\">\n",
       "  <thead>\n",
       "    <tr style=\"text-align: right;\">\n",
       "      <th></th>\n",
       "      <th>SepalLengthCm</th>\n",
       "      <th>SepalWidthCm</th>\n",
       "      <th>PetalLengthCm</th>\n",
       "      <th>PetalWidthCm</th>\n",
       "    </tr>\n",
       "  </thead>\n",
       "  <tbody>\n",
       "    <tr>\n",
       "      <th>98</th>\n",
       "      <td>5.1</td>\n",
       "      <td>2.5</td>\n",
       "      <td>3.0</td>\n",
       "      <td>1.1</td>\n",
       "    </tr>\n",
       "  </tbody>\n",
       "</table>\n",
       "</div>"
      ],
      "text/plain": [
       "    SepalLengthCm  SepalWidthCm  PetalLengthCm  PetalWidthCm\n",
       "98            5.1           2.5            3.0           1.1"
      ]
     },
     "execution_count": 56,
     "metadata": {},
     "output_type": "execute_result"
    }
   ],
   "source": [
    "x_test.iloc[2:3]"
   ]
  },
  {
   "cell_type": "code",
   "execution_count": 57,
   "id": "8adddc7e",
   "metadata": {},
   "outputs": [
    {
     "data": {
      "text/plain": [
       "1"
      ]
     },
     "execution_count": 57,
     "metadata": {},
     "output_type": "execute_result"
    }
   ],
   "source": [
    "predict = classifier.predict(x_test.iloc[2:3])\n",
    "predict[0]"
   ]
  },
  {
   "cell_type": "code",
   "execution_count": null,
   "id": "23441ffc",
   "metadata": {},
   "outputs": [],
   "source": []
  },
  {
   "cell_type": "code",
   "execution_count": 58,
   "id": "292bfa27",
   "metadata": {},
   "outputs": [],
   "source": [
    "def predictions(SepalLengthCm, SepalWidthCm, PetalLengthCm, PetalWidthCm):\n",
    "    predict = classifier.predict([[SepalLengthCm, SepalWidthCm, PetalLengthCm, PetalWidthCm]])\n",
    "    print(f\"Predictios are:- {predict[0]}\")\n",
    "    return predict[0]"
   ]
  },
  {
   "cell_type": "code",
   "execution_count": 59,
   "id": "9b2d12cc",
   "metadata": {},
   "outputs": [
    {
     "name": "stdout",
     "output_type": "stream",
     "text": [
      "Predictios are:- 2\n"
     ]
    },
    {
     "data": {
      "text/plain": [
       "2"
      ]
     },
     "execution_count": 59,
     "metadata": {},
     "output_type": "execute_result"
    }
   ],
   "source": [
    "predictions(2,3,4,5)"
   ]
  },
  {
   "cell_type": "code",
   "execution_count": 60,
   "id": "9abd0f58",
   "metadata": {},
   "outputs": [],
   "source": [
    "import pickle\n",
    "import os\n",
    "model_folder_path = \"model\"\n",
    "if not os.path.exists(model_folder_path):\n",
    "    os.mkdir(model_folder_path)\n",
    "pickle.dump(classifier, open(f\"{model_folder_path}/model.pkl\", \"wb\"))"
   ]
  },
  {
   "cell_type": "code",
   "execution_count": null,
   "id": "5c458c6c",
   "metadata": {},
   "outputs": [],
   "source": []
  }
 ],
 "metadata": {
  "kernelspec": {
   "display_name": "Python 3.9.12 ('base')",
   "language": "python",
   "name": "python3"
  },
  "language_info": {
   "codemirror_mode": {
    "name": "ipython",
    "version": 3
   },
   "file_extension": ".py",
   "mimetype": "text/x-python",
   "name": "python",
   "nbconvert_exporter": "python",
   "pygments_lexer": "ipython3",
   "version": "3.9.12"
  },
  "vscode": {
   "interpreter": {
    "hash": "2cd1a951032f7352ae3168ddd8bf9e6a804496d0e856e8ba8d93099e51bff633"
   }
  }
 },
 "nbformat": 4,
 "nbformat_minor": 5
}
